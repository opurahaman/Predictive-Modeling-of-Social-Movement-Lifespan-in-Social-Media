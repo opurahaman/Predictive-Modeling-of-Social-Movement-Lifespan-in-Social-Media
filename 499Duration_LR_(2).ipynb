{
  "nbformat": 4,
  "nbformat_minor": 0,
  "metadata": {
    "colab": {
      "provenance": []
    },
    "kernelspec": {
      "name": "python3",
      "display_name": "Python 3"
    },
    "language_info": {
      "name": "python"
    }
  },
  "cells": [
    {
      "cell_type": "code",
      "execution_count": null,
      "metadata": {
        "id": "8DR0c521wXn9"
      },
      "outputs": [],
      "source": [
        "import pandas as pd\n",
        "from sklearn.model_selection import train_test_split\n",
        "from sklearn.linear_model import LinearRegression\n",
        "from sklearn.metrics import mean_squared_error\n",
        "import numpy as np\n"
      ]
    },
    {
      "cell_type": "code",
      "source": [
        "import pandas as pd\n",
        "import sklearn\n",
        "import numpy as np\n",
        "\n",
        "# Print version information\n",
        "print(\"Pandas version:\", pd.__version__)\n",
        "print(\"Scikit-Learn version:\", sklearn.__version__)\n",
        "print(\"NumPy version:\", np.__version__)\n"
      ],
      "metadata": {
        "id": "vJuRhP6aoOXh",
        "outputId": "aa013286-ec56-4cf6-e22d-1aa811f793c2",
        "colab": {
          "base_uri": "https://localhost:8080/"
        }
      },
      "execution_count": null,
      "outputs": [
        {
          "output_type": "stream",
          "name": "stdout",
          "text": [
            "Pandas version: 2.2.2\n",
            "Scikit-Learn version: 1.5.2\n",
            "NumPy version: 1.26.4\n"
          ]
        }
      ]
    },
    {
      "cell_type": "code",
      "source": [
        "def load_data(filepath):\n",
        "    return pd.read_excel(filepath)\n",
        "\n",
        "def preprocess_data(data):\n",
        "    data = data.dropna(subset=['Duration of Movement'])\n",
        "    features = data[['Positive Sentiment', 'Negative Sentiment', 'Neutral Sentiment',\n",
        "                     'Counter_Movement', 'Cultural Relevance', 'Political Nature', 'Legality Nature']]\n",
        "    target = data['Duration of Movement']\n",
        "    return features, target\n",
        "\n",
        "def split_data(features, target):\n",
        "\n",
        "    return train_test_split(features, target, test_size=0.2, random_state=42)\n"
      ],
      "metadata": {
        "id": "z6srO4Tew3Hc"
      },
      "execution_count": null,
      "outputs": []
    },
    {
      "cell_type": "code",
      "source": [
        "def train_model(X_train, y_train):\n",
        "\n",
        "    model = LinearRegression()\n",
        "    model.fit(X_train, y_train)\n",
        "    return model\n"
      ],
      "metadata": {
        "id": "-tg6fHDSxANz"
      },
      "execution_count": null,
      "outputs": []
    },
    {
      "cell_type": "code",
      "source": [
        "def evaluate_model(model, X_test, y_test):\n",
        "\n",
        "    y_pred = model.predict(X_test)\n",
        "    return np.sqrt(mean_squared_error(y_test, y_pred))\n"
      ],
      "metadata": {
        "id": "SHUNcaAhxFH7"
      },
      "execution_count": null,
      "outputs": []
    },
    {
      "cell_type": "code",
      "source": [
        "if __name__ == \"__main__\":\n",
        "\n",
        "    data = load_data('/content/drive/MyDrive/499 dataset/Updated Dataset.xlsx')  #file path\n",
        "\n",
        "    features, target = preprocess_data(data)\n",
        "\n",
        "    X_train, X_test, y_train, y_test = split_data(features, target)\n",
        "\n",
        "    model = train_model(X_train, y_train)  #model output\n",
        "\n",
        "    rmse = evaluate_model(model, X_test, y_test)\n",
        "\n",
        "    print(\"Root Mean Squared Error:\", rmse)"
      ],
      "metadata": {
        "id": "3O96puldxHZj",
        "colab": {
          "base_uri": "https://localhost:8080/"
        },
        "outputId": "6ae531d6-18c5-4fee-dada-b7d182f2d20d"
      },
      "execution_count": null,
      "outputs": [
        {
          "output_type": "stream",
          "name": "stdout",
          "text": [
            "Root Mean Squared Error: 14.237666215939711\n"
          ]
        }
      ]
    }
  ]
}