{
  "nbformat": 4,
  "nbformat_minor": 0,
  "metadata": {
    "colab": {
      "provenance": []
    },
    "kernelspec": {
      "name": "python3",
      "display_name": "Python 3"
    },
    "language_info": {
      "name": "python"
    }
  },
  "cells": [
    {
      "cell_type": "code",
      "execution_count": null,
      "metadata": {
        "colab": {
          "base_uri": "https://localhost:8080/"
        },
        "id": "_s39cZadwhIy",
        "outputId": "d1f3f2d9-cfc7-4b3f-b565-1e79555a605d"
      },
      "outputs": [
        {
          "output_type": "stream",
          "name": "stderr",
          "text": [
            "[nltk_data] Downloading package vader_lexicon to /root/nltk_data...\n"
          ]
        },
        {
          "output_type": "stream",
          "name": "stdout",
          "text": [
            "posts\n",
            "positive    47.826087\n",
            "negative    29.565217\n",
            "neutral     22.608696\n",
            "Name: proportion, dtype: float64\n"
          ]
        }
      ],
      "source": [
        "import pandas as pd\n",
        "from nltk.sentiment import SentimentIntensityAnalyzer\n",
        "from nltk import download\n",
        "\n",
        "def load_and_clean_data(filepath):\n",
        "    data = pd.read_csv(filepath)\n",
        "    clean_data = data.dropna(subset=['posts'])\n",
        "    return clean_data\n",
        "\n",
        "def perform_sentiment_analysis(posts):\n",
        "    download('vader_lexicon')\n",
        "    sia = SentimentIntensityAnalyzer()\n",
        "    sentiment_scores = posts.apply(lambda post: sia.polarity_scores(post)['compound'])\n",
        "    sentiment_category = sentiment_scores.apply(lambda score: 'positive' if score > 0 else ('negative' if score < 0 else 'neutral'))\n",
        "    return sentiment_category.value_counts(normalize=True) * 100\n",
        "\n",
        "def main(filepath):\n",
        "    clean_data = load_and_clean_data(filepath)\n",
        "    sentiment_summary = perform_sentiment_analysis(clean_data['posts'])\n",
        "    print(sentiment_summary)\n",
        "\n",
        "if __name__ == \"__main__\":\n",
        "    filepath = '/content/BlackLivesMatter.csv'\n",
        "    main(filepath)"
      ]
    }
  ]
}