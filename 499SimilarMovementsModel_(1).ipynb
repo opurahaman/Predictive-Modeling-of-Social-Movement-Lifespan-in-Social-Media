{
  "nbformat": 4,
  "nbformat_minor": 0,
  "metadata": {
    "colab": {
      "provenance": []
    },
    "kernelspec": {
      "name": "python3",
      "display_name": "Python 3"
    },
    "language_info": {
      "name": "python"
    }
  },
  "cells": [
    {
      "cell_type": "code",
      "execution_count": null,
      "metadata": {
        "id": "TwUa6T4sixGm"
      },
      "outputs": [],
      "source": [
        "import pandas as pd\n",
        "from sklearn.preprocessing import StandardScaler\n",
        "from sklearn.metrics.pairwise import euclidean_distances\n",
        "import numpy as np\n"
      ]
    },
    {
      "cell_type": "code",
      "source": [
        "import pandas as pd\n",
        "import sklearn\n",
        "import numpy as np\n",
        "\n",
        "# Print version information\n",
        "print(\"Pandas version:\", pd.__version__)\n",
        "print(\"Scikit-Learn version:\", sklearn.__version__)\n",
        "print(\"NumPy version:\", np.__version__)\n"
      ],
      "metadata": {
        "colab": {
          "base_uri": "https://localhost:8080/"
        },
        "id": "Sy3941sGn96s",
        "outputId": "9c94954f-4883-47c8-ddd6-001ae8f997d5"
      },
      "execution_count": null,
      "outputs": [
        {
          "output_type": "stream",
          "name": "stdout",
          "text": [
            "Pandas version: 2.2.2\n",
            "Scikit-Learn version: 1.5.2\n",
            "NumPy version: 1.26.4\n"
          ]
        }
      ]
    },
    {
      "cell_type": "code",
      "source": [
        "file_url = f'/content/drive/MyDrive/499 dataset/Updated Dataset.xlsx'\n",
        "\n",
        "data = pd.read_excel(file_url)"
      ],
      "metadata": {
        "id": "VVPF8DzljSnN"
      },
      "execution_count": null,
      "outputs": []
    },
    {
      "cell_type": "code",
      "source": [
        "features = data.drop(columns=['Movement', 'Duration of Movement'])\n",
        "\n",
        "scaler = StandardScaler()\n",
        "scaled_features = scaler.fit_transform(features)\n",
        "\n"
      ],
      "metadata": {
        "id": "86s7GerljU0c"
      },
      "execution_count": null,
      "outputs": []
    },
    {
      "cell_type": "code",
      "source": [
        "def find_similar_movements(new_data, top_n=3):\n",
        "\n",
        "    scaled_new_data = scaler.transform(new_data)\n",
        "\n",
        "    distances = euclidean_distances(scaled_features, scaled_new_data)\n",
        "\n",
        "    similar_indices = np.argsort(distances.flatten())[:top_n]\n",
        "\n",
        "    similar_movements = data.iloc[similar_indices]['Movement']\n",
        "    return similar_movements\n"
      ],
      "metadata": {
        "id": "j_u-_sUrjZUc"
      },
      "execution_count": null,
      "outputs": []
    },
    {
      "cell_type": "code",
      "source": [
        "# Example usage\n",
        "new_movements_features = np.array([[1.5, 0.0, 2.8, 0.3, 30, 28, 42]])  # Replace with actual new data features\n",
        "similar_movements = find_similar_movements(new_movements_features)\n",
        "\n",
        "print(\"Most similar movements to the provided features:\")\n",
        "print(similar_movements.to_list())"
      ],
      "metadata": {
        "colab": {
          "base_uri": "https://localhost:8080/"
        },
        "id": "HmFy38j-jaSI",
        "outputId": "1daad710-490a-491a-f7c0-70746ce4457a"
      },
      "execution_count": null,
      "outputs": [
        {
          "output_type": "stream",
          "name": "stdout",
          "text": [
            "Most similar movements to the provided features:\n",
            "['Metoo', 'JusticeForBreonnaTaylor', 'MuteRKelly']\n"
          ]
        },
        {
          "output_type": "stream",
          "name": "stderr",
          "text": [
            "/usr/local/lib/python3.10/dist-packages/sklearn/base.py:465: UserWarning: X does not have valid feature names, but StandardScaler was fitted with feature names\n",
            "  warnings.warn(\n"
          ]
        }
      ]
    }
  ]
}